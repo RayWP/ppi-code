{
 "cells": [
  {
   "cell_type": "markdown",
   "metadata": {},
   "source": [
    "# "
   ]
  },
  {
   "cell_type": "code",
   "execution_count": null,
   "metadata": {},
   "outputs": [],
   "source": [
    "print(\"nama saya \")"
   ]
  },
  {
   "cell_type": "code",
   "execution_count": null,
   "metadata": {},
   "outputs": [],
   "source": [
    "s = 0.7  # Example value, you can change it as needed\n",
    "\n",
    "if s > 0.5:\n",
    "    sentiment = \"positive\"\n",
    "elif -0.5 <= s <= 0.5:\n",
    "    sentiment = \"neutral\"\n",
    "else:\n",
    "    sentiment = \"negative\"\n",
    "\n",
    "print(sentiment)"
   ]
  }
 ],
 "metadata": {
  "kernelspec": {
   "display_name": "huggingface-nlp-course",
   "language": "python",
   "name": "python3"
  },
  "language_info": {
   "codemirror_mode": {
    "name": "ipython",
    "version": 3
   },
   "file_extension": ".py",
   "mimetype": "text/x-python",
   "name": "python",
   "nbconvert_exporter": "python",
   "pygments_lexer": "ipython3",
   "version": "3.11.0"
  }
 },
 "nbformat": 4,
 "nbformat_minor": 2
}
