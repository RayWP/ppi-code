{
 "cells": [
  {
   "cell_type": "markdown",
   "metadata": {},
   "source": [
    "# Membuat Input Output"
   ]
  },
  {
   "cell_type": "code",
   "execution_count": null,
   "metadata": {},
   "outputs": [],
   "source": [
    "print(\"nama saya raymond\")"
   ]
  },
  {
   "cell_type": "code",
   "execution_count": null,
   "metadata": {},
   "outputs": [],
   "source": [
    "a = input(\"nama saya siapa? \")\n",
    "print(\"nama saya: \", a)"
   ]
  },
  {
   "cell_type": "markdown",
   "metadata": {},
   "source": [
    "# Melakukan operasi if else"
   ]
  },
  {
   "cell_type": "code",
   "execution_count": null,
   "metadata": {},
   "outputs": [],
   "source": [
    "# Meminta input angka dari pengguna\n",
    "angka = int(input(\"Masukkan sebuah angka: \"))\n",
    "\n",
    "# Mengecek apakah angka tersebut ganjil atau genap\n",
    "if angka % 2 == 0:\n",
    "    print(f\"Angka {angka} adalah genap.\")\n",
    "else:\n",
    "    print(f\"Angka {angka} adalah ganjil.\")"
   ]
  },
  {
   "cell_type": "markdown",
   "metadata": {},
   "source": [
    "# Melakukan operasi For-loop / perulangan"
   ]
  },
  {
   "cell_type": "code",
   "execution_count": null,
   "metadata": {},
   "outputs": [],
   "source": [
    "# Contoh for-loop untuk menampilkan review pengguna\n",
    "reviews = [\"Sangat baik\", \"Cukup memuaskan\", \"Biasa saja\", \"Kurang memuaskan\", \"Sangat buruk\"]\n",
    "\n",
    "print(\"Review pengguna:\")\n",
    "for review in reviews:\n",
    "    print(f\"- {review}\")"
   ]
  },
  {
   "cell_type": "markdown",
   "metadata": {},
   "source": [
    "# Membuat fungsi"
   ]
  },
  {
   "cell_type": "code",
   "execution_count": null,
   "metadata": {},
   "outputs": [],
   "source": [
    "def fungsi_linear(x, a, b):\n",
    "    return a * x + b\n",
    "\n",
    "def fungsi_kuadratik(x, a, b, c):\n",
    "    return a * x**2 + b * x + c\n",
    "\n",
    "# Contoh penggunaan fungsi linear\n",
    "x = 2\n",
    "a = 3\n",
    "b = 4\n",
    "hasil_linear = fungsi_linear(x, a, b)\n",
    "print(f\"Hasil fungsi linear untuk x={x}, a={a}, b={b}: {hasil_linear}\")\n",
    "\n",
    "# Contoh penggunaan fungsi kuadratik\n",
    "c = 5\n",
    "hasil_kuadratik = fungsi_kuadratik(x, a, b, c)\n",
    "print(f\"Hasil fungsi kuadratik untuk x={x}, a={a}, b={b}, c={c}: {hasil_kuadratik}\")"
   ]
  },
  {
   "cell_type": "markdown",
   "metadata": {},
   "source": [
    "# kumpulan data 1 dimensi"
   ]
  },
  {
   "cell_type": "code",
   "execution_count": null,
   "metadata": {},
   "outputs": [],
   "source": [
    "# Membuat array yang berisi review\n",
    "review_array = [\"bagus\", \"jelek\", \"ya oke lah\"]\n",
    "# Menampilkan array review\n",
    "print(\"Array review:\")\n",
    "for review in review_array:\n",
    "    print(f\"- {review}\")"
   ]
  }
 ],
 "metadata": {
  "kernelspec": {
   "display_name": "Python 3",
   "language": "python",
   "name": "python3"
  },
  "language_info": {
   "codemirror_mode": {
    "name": "ipython",
    "version": 3
   },
   "file_extension": ".py",
   "mimetype": "text/x-python",
   "name": "python",
   "nbconvert_exporter": "python",
   "pygments_lexer": "ipython3",
   "version": "3.11.0"
  }
 },
 "nbformat": 4,
 "nbformat_minor": 2
}
